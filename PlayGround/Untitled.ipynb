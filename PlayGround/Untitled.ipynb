{
 "cells": [
  {
   "cell_type": "code",
   "execution_count": 3,
   "id": "28068185-2f8c-4035-b111-6aeb5fbc7796",
   "metadata": {},
   "outputs": [
    {
     "ename": "ImportError",
     "evalue": "cannot import name 'document' from 'browser' (/home/moshe/.local/lib/python3.8/site-packages/browser/__init__.py)",
     "output_type": "error",
     "traceback": [
      "\u001b[0;31m---------------------------------------------------------------------------\u001b[0m",
      "\u001b[0;31mImportError\u001b[0m                               Traceback (most recent call last)",
      "\u001b[0;32m<ipython-input-3-b13539696c9e>\u001b[0m in \u001b[0;36m<module>\u001b[0;34m\u001b[0m\n\u001b[0;32m----> 1\u001b[0;31m \u001b[0;32mfrom\u001b[0m \u001b[0mbrowser\u001b[0m \u001b[0;32mimport\u001b[0m \u001b[0mdocument\u001b[0m\u001b[0;34m,\u001b[0m \u001b[0mhtml\u001b[0m\u001b[0;34m\u001b[0m\u001b[0;34m\u001b[0m\u001b[0m\n\u001b[0m\u001b[1;32m      2\u001b[0m \u001b[0;34m\u001b[0m\u001b[0m\n\u001b[1;32m      3\u001b[0m \u001b[0;31m# Construction de la calculatrice\u001b[0m\u001b[0;34m\u001b[0m\u001b[0;34m\u001b[0m\u001b[0;34m\u001b[0m\u001b[0m\n\u001b[1;32m      4\u001b[0m \u001b[0mcalc\u001b[0m \u001b[0;34m=\u001b[0m \u001b[0mhtml\u001b[0m\u001b[0;34m.\u001b[0m\u001b[0mTABLE\u001b[0m\u001b[0;34m(\u001b[0m\u001b[0;34m)\u001b[0m\u001b[0;34m\u001b[0m\u001b[0;34m\u001b[0m\u001b[0m\n\u001b[1;32m      5\u001b[0m calc <= html.TR(html.TH(html.DIV(\"0\", id=\"result\"), colspan=3) +\n",
      "\u001b[0;31mImportError\u001b[0m: cannot import name 'document' from 'browser' (/home/moshe/.local/lib/python3.8/site-packages/browser/__init__.py)"
     ]
    }
   ],
   "source": [
    "from browser import document, html\n",
    "\n",
    "# Construction de la calculatrice\n",
    "calc = html.TABLE()\n",
    "calc <= html.TR(html.TH(html.DIV(\"0\", id=\"result\"), colspan=3) +\n",
    "                html.TD(\"C\"))\n",
    "lines = [\"789/\", \"456*\", \"123-\", \"0.=+\"]\n",
    "\n",
    "calc <= (html.TR(html.TD(x) for x in line) for line in lines)\n",
    "\n",
    "document <= calc\n",
    "\n",
    "result = document[\"result\"] # direct acces to an element by its id\n",
    "\n",
    "def action(event):\n",
    "    \"\"\"Handles the \"click\" event on a button of the calculator.\"\"\"\n",
    "    # The element the user clicked on is the attribute \"target\" of the\n",
    "    # event object\n",
    "    element = event.target\n",
    "    # The text printed on the button is the element's \"text\" attribute\n",
    "    value = element.text\n",
    "    if value not in \"=C\":\n",
    "        # update the result zone\n",
    "        if result.text in [\"0\", \"error\"]:\n",
    "            result.text = value\n",
    "        else:\n",
    "            result.text = result.text + value\n",
    "    elif value == \"C\":\n",
    "        # reset\n",
    "        result.text = \"0\"\n",
    "    elif value == \"=\":\n",
    "        # execute the formula in result zone\n",
    "        try:\n",
    "            result.text = eval(result.text)\n",
    "        except:\n",
    "            result.text = \"error\"\n",
    "\n",
    "# Associate function action() to the event \"click\" on all buttons\n",
    "for button in document.select(\"td\"):\n",
    "    button.bind(\"click\", action)"
   ]
  },
  {
   "cell_type": "code",
   "execution_count": 2,
   "id": "69a2d22a-a2ad-4c3d-9c4e-3071b19008ba",
   "metadata": {},
   "outputs": [
    {
     "name": "stdout",
     "output_type": "stream",
     "text": [
      "/usr/lib/python3/dist-packages/secretstorage/dhcrypto.py:15: CryptographyDeprecationWarning: int_from_bytes is deprecated, use int.from_bytes instead\n",
      "  from cryptography.utils import int_from_bytes\n",
      "/usr/lib/python3/dist-packages/secretstorage/util.py:19: CryptographyDeprecationWarning: int_from_bytes is deprecated, use int.from_bytes instead\n",
      "  from cryptography.utils import int_from_bytes\n",
      "Collecting browser\n",
      "  Downloading browser-0.0.1.tar.gz (2.7 kB)\n",
      "Collecting PyVirtualDisplay==0.2.4\n",
      "  Downloading PyVirtualDisplay-0.2.4-py2.py3-none-any.whl (15 kB)\n",
      "Collecting cssselect==1.0.3\n",
      "  Downloading cssselect-1.0.3-py2.py3-none-any.whl (16 kB)\n",
      "Requirement already satisfied: lxml==4.5.0 in /usr/lib/python3/dist-packages (from browser) (4.5.0)\n",
      "Collecting selenium==3.141.0\n",
      "  Using cached selenium-3.141.0-py2.py3-none-any.whl (904 kB)\n",
      "Requirement already satisfied: EasyProcess in /home/moshe/.local/lib/python3.8/site-packages (from PyVirtualDisplay==0.2.4->browser) (0.3)\n",
      "Requirement already satisfied: urllib3 in /usr/lib/python3/dist-packages (from selenium==3.141.0->browser) (1.25.8)\n",
      "Building wheels for collected packages: browser\n",
      "  Building wheel for browser (setup.py) ... \u001b[?25ldone\n",
      "\u001b[?25h  Created wheel for browser: filename=browser-0.0.1-py3-none-any.whl size=3512 sha256=42a07d05043e48ac466a6ba06b567e4fd827b5957efcbafb7118d79030965e21\n",
      "  Stored in directory: /home/moshe/.cache/pip/wheels/7b/59/c0/1e2d7a1c56cbbfb8b6b2fd997ed00211d1b349017dbb9a57b1\n",
      "Successfully built browser\n",
      "Installing collected packages: PyVirtualDisplay, cssselect, selenium, browser\n",
      "Successfully installed PyVirtualDisplay-0.2.4 browser-0.0.1 cssselect-1.0.3 selenium-3.141.0\n"
     ]
    }
   ],
   "source": [
    "!pip install browser\n"
   ]
  },
  {
   "cell_type": "code",
   "execution_count": 5,
   "id": "4469a49a-236a-4246-9035-6cc9024e5e1e",
   "metadata": {},
   "outputs": [
    {
     "ename": "ImportError",
     "evalue": "cannot import name 'prompt' from 'browser' (/home/moshe/.local/lib/python3.8/site-packages/browser/__init__.py)",
     "output_type": "error",
     "traceback": [
      "\u001b[0;31m---------------------------------------------------------------------------\u001b[0m",
      "\u001b[0;31mImportError\u001b[0m                               Traceback (most recent call last)",
      "\u001b[0;32m<ipython-input-5-865a1dde02ce>\u001b[0m in \u001b[0;36m<module>\u001b[0;34m\u001b[0m\n\u001b[0;32m----> 1\u001b[0;31m \u001b[0;32mfrom\u001b[0m \u001b[0mbrowser\u001b[0m \u001b[0;32mimport\u001b[0m  \u001b[0mprompt\u001b[0m\u001b[0;34m,\u001b[0m \u001b[0mhtml\u001b[0m\u001b[0;34m,\u001b[0m \u001b[0malert\u001b[0m\u001b[0;34m\u001b[0m\u001b[0;34m\u001b[0m\u001b[0m\n\u001b[0m\u001b[1;32m      2\u001b[0m \u001b[0;32mimport\u001b[0m \u001b[0mbase64\u001b[0m\u001b[0;34m\u001b[0m\u001b[0;34m\u001b[0m\u001b[0m\n\u001b[1;32m      3\u001b[0m \u001b[0;34m\u001b[0m\u001b[0m\n\u001b[1;32m      4\u001b[0m \u001b[0mb64_map\u001b[0m \u001b[0;34m=\u001b[0m \u001b[0;34m{\u001b[0m\u001b[0;34m}\u001b[0m\u001b[0;34m\u001b[0m\u001b[0;34m\u001b[0m\u001b[0m\n\u001b[1;32m      5\u001b[0m \u001b[0;34m\u001b[0m\u001b[0m\n",
      "\u001b[0;31mImportError\u001b[0m: cannot import name 'prompt' from 'browser' (/home/moshe/.local/lib/python3.8/site-packages/browser/__init__.py)"
     ]
    }
   ],
   "source": [
    "from browser import document, prompt, html, alert\n",
    "import base64\n",
    "\n",
    "b64_map = {}\n",
    "\n",
    "def base64_compute(_):\n",
    "    value = document[\"text-src\"].value\n",
    "    if not value:\n",
    "        alert(\"You need to enter a value\")\n",
    "        return\n",
    "    if value in b64_map:\n",
    "        alert(f\"'The base64 value of '{value}' already exists: '{b64_map[value]}'\")\n",
    "        return\n",
    "    b64data = base64.b64encode(value.encode()).decode()\n",
    "    b64_map[value] = b64data\n",
    "    display_map()\n",
    "\n",
    "def clear_map(_) -> None:\n",
    "    b64_map.clear()\n",
    "    document[\"b64-display\"].clear()\n",
    "\n",
    "def display_map() -> None:\n",
    "    table = html.TABLE(Class=\"pure-table\")\n",
    "    table <= html.THEAD(html.TR(html.TH(\"Text\") + html.TH(\"Base64\")))\n",
    "    table <= (html.TR(html.TD(key) + html.TD(b64_map[key])) for key in b64_map)\n",
    "    base64_display = document[\"b64-display\"]\n",
    "    base64_display.clear()\n",
    "    base64_display <= table\n",
    "    document[\"text-src\"].value = \"\"\n",
    "\n",
    "document[\"submit\"].bind(\"click\", base64_compute)\n",
    "document[\"clear-btn\"].bind(\"click\", clear_map)"
   ]
  },
  {
   "cell_type": "code",
   "execution_count": 6,
   "id": "a2ba084e-54f4-40db-9e0b-59747e82a560",
   "metadata": {},
   "outputs": [
    {
     "ename": "ImportError",
     "evalue": "cannot import name 'html' from 'browser' (/home/moshe/.local/lib/python3.8/site-packages/browser/__init__.py)",
     "output_type": "error",
     "traceback": [
      "\u001b[0;31m---------------------------------------------------------------------------\u001b[0m",
      "\u001b[0;31mImportError\u001b[0m                               Traceback (most recent call last)",
      "\u001b[0;32m<ipython-input-6-f6c242890afc>\u001b[0m in \u001b[0;36m<module>\u001b[0;34m\u001b[0m\n\u001b[0;32m----> 1\u001b[0;31m \u001b[0;32mfrom\u001b[0m \u001b[0mbrowser\u001b[0m \u001b[0;32mimport\u001b[0m \u001b[0mhtml\u001b[0m\u001b[0;34m\u001b[0m\u001b[0;34m\u001b[0m\u001b[0m\n\u001b[0m\u001b[1;32m      2\u001b[0m \u001b[0mtable\u001b[0m \u001b[0;34m=\u001b[0m \u001b[0mhtml\u001b[0m\u001b[0;34m.\u001b[0m\u001b[0mTABLE\u001b[0m\u001b[0;34m(\u001b[0m\u001b[0;34m)\u001b[0m\u001b[0;34m\u001b[0m\u001b[0;34m\u001b[0m\u001b[0m\n\u001b[1;32m      3\u001b[0m \u001b[0mtable\u001b[0m \u001b[0;34m<=\u001b[0m \u001b[0mhtml\u001b[0m\u001b[0;34m.\u001b[0m\u001b[0mTHEAD\u001b[0m\u001b[0;34m(\u001b[0m\u001b[0mhtml\u001b[0m\u001b[0;34m.\u001b[0m\u001b[0mTR\u001b[0m\u001b[0;34m(\u001b[0m\u001b[0mhtml\u001b[0m\u001b[0;34m.\u001b[0m\u001b[0mTH\u001b[0m\u001b[0;34m(\u001b[0m\u001b[0;34m\"Text\"\u001b[0m\u001b[0;34m)\u001b[0m \u001b[0;34m+\u001b[0m \u001b[0mhtml\u001b[0m\u001b[0;34m.\u001b[0m\u001b[0mTH\u001b[0m\u001b[0;34m(\u001b[0m\u001b[0;34m\"Base64\"\u001b[0m\u001b[0;34m)\u001b[0m\u001b[0;34m)\u001b[0m\u001b[0;34m)\u001b[0m\u001b[0;34m\u001b[0m\u001b[0;34m\u001b[0m\u001b[0m\n\u001b[1;32m      4\u001b[0m \u001b[0mtable\u001b[0m\u001b[0;34m.\u001b[0m\u001b[0mouterHTML\u001b[0m\u001b[0;34m\u001b[0m\u001b[0;34m\u001b[0m\u001b[0m\n",
      "\u001b[0;31mImportError\u001b[0m: cannot import name 'html' from 'browser' (/home/moshe/.local/lib/python3.8/site-packages/browser/__init__.py)"
     ]
    }
   ],
   "source": [
    "from browser import html\n",
    "table = html.TABLE()\n",
    "table <= html.THEAD(html.TR(html.TH(\"Text\") + html.TH(\"Base64\")))\n",
    "table.outerHTML\n"
   ]
  },
  {
   "cell_type": "code",
   "execution_count": 7,
   "id": "9b792092-d86a-4c7f-90a2-71bbcf3f6bcf",
   "metadata": {},
   "outputs": [
    {
     "name": "stdout",
     "output_type": "stream",
     "text": [
      "/usr/lib/python3/dist-packages/secretstorage/dhcrypto.py:15: CryptographyDeprecationWarning: int_from_bytes is deprecated, use int.from_bytes instead\n",
      "  from cryptography.utils import int_from_bytes\n",
      "/usr/lib/python3/dist-packages/secretstorage/util.py:19: CryptographyDeprecationWarning: int_from_bytes is deprecated, use int.from_bytes instead\n",
      "  from cryptography.utils import int_from_bytes\n",
      "Requirement already satisfied: brython in /home/moshe/.local/lib/python3.8/site-packages (3.9.5)\n"
     ]
    }
   ],
   "source": [
    "!pip install brython\n"
   ]
  },
  {
   "cell_type": "code",
   "execution_count": 8,
   "id": "3bc55766-8b24-465e-968e-5790f0e41fdd",
   "metadata": {},
   "outputs": [
    {
     "ename": "ImportError",
     "evalue": "cannot import name 'browser' from 'brython' (/home/moshe/.local/lib/python3.8/site-packages/brython/__init__.py)",
     "output_type": "error",
     "traceback": [
      "\u001b[0;31m---------------------------------------------------------------------------\u001b[0m",
      "\u001b[0;31mImportError\u001b[0m                               Traceback (most recent call last)",
      "\u001b[0;32m<ipython-input-8-5932b82165c3>\u001b[0m in \u001b[0;36m<module>\u001b[0;34m\u001b[0m\n\u001b[0;32m----> 1\u001b[0;31m \u001b[0;32mfrom\u001b[0m \u001b[0mbrython\u001b[0m \u001b[0;32mimport\u001b[0m \u001b[0mbrowser\u001b[0m\u001b[0;34m\u001b[0m\u001b[0;34m\u001b[0m\u001b[0m\n\u001b[0m",
      "\u001b[0;31mImportError\u001b[0m: cannot import name 'browser' from 'brython' (/home/moshe/.local/lib/python3.8/site-packages/brython/__init__.py)"
     ]
    }
   ],
   "source": [
    "from brython import browser\n"
   ]
  },
  {
   "cell_type": "code",
   "execution_count": null,
   "id": "1169a015-1b08-42fc-a417-5f4a576bc6d0",
   "metadata": {},
   "outputs": [],
   "source": []
  }
 ],
 "metadata": {
  "kernelspec": {
   "display_name": "Python 3",
   "language": "python",
   "name": "python3"
  },
  "language_info": {
   "codemirror_mode": {
    "name": "ipython",
    "version": 3
   },
   "file_extension": ".py",
   "mimetype": "text/x-python",
   "name": "python",
   "nbconvert_exporter": "python",
   "pygments_lexer": "ipython3",
   "version": "3.8.10"
  }
 },
 "nbformat": 4,
 "nbformat_minor": 5
}
