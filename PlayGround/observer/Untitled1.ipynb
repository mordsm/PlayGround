{
 "cells": [
  {
   "cell_type": "code",
   "execution_count": null,
   "id": "817778cc-2ed0-430b-ad4f-a35ff6aab436",
   "metadata": {},
   "outputs": [],
   "source": []
  }
 ],
 "metadata": {
  "kernelspec": {
   "display_name": "Python 3",
   "language": "python",
   "name": "python3"
  },
  "language_info": {
   "name": ""
  }
 },
 "nbformat": 4,
 "nbformat_minor": 5
}
